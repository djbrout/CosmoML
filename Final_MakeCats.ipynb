{
 "cells": [
  {
   "cell_type": "code",
   "execution_count": 1,
   "metadata": {
    "collapsed": true
   },
   "outputs": [],
   "source": [
    "# Read fits files\n",
    "import fitsio\n",
    "import numpy as np\n",
    "\n",
    "pym_name = 'manga-pymorph-DR15.fits'\n",
    "mor_name = 'manga-morphology-dl-DR15.fits'\n",
    "g = fitsio.read(pym_name,1)\n",
    "r = fitsio.read(pym_name,2)\n",
    "mor = fitsio.read(mor_name,1)"
   ]
  },
  {
   "cell_type": "code",
   "execution_count": 2,
   "metadata": {
    "scrolled": false
   },
   "outputs": [
    {
     "name": "stdout",
     "output_type": "stream",
     "text": [
      "('INTID', 'MANGA_ID', 'PLATEIFU', 'OBJID', 'RA', 'DEC', 'Z', 'EXTINCTION', 'DUPL_GR', 'DUPL_N', 'DUPL_ID', 'FLAG_FIT', 'FLAG_FAILED_S', 'M_S', 'M_S_ERR', 'M_S_TRUNC', 'A_HL_S', 'A_HL_S_ERR', 'A_HL_S_TRUNC', 'N_S', 'N_S_ERR', 'BA_S', 'BA_S_ERR', 'PA_S', 'PA_S_ERR', 'GALSKY_S', 'FLAG_FAILED_SE', 'M_SE', 'M_SE_TRUNC', 'A_HL_SE', 'A_HL_SE_TRUNC', 'BA_SE', 'BT_SE', 'BT_SE_TRUNC', 'M_SE_BULGE', 'M_SE_BULGE_ERR', 'M_SE_BULGE_TRUNC', 'A_HL_SE_BULGE', 'A_HL_SE_BULGE_ERR', 'A_HL_SE_BULGE_TRUNC', 'N_SE_BULGE', 'N_SE_BULGE_ERR', 'BA_SE_BULGE', 'BA_SE_BULGE_ERR', 'PA_SE_BULGE', 'PA_SE_BULGE_ERR', 'M_SE_DISK', 'M_SE_DISK_ERR', 'M_SE_DISK_TRUNC', 'A_HL_SE_DISK', 'A_HL_SE_DISK_ERR', 'A_HL_SE_DISK_TRUNC', 'N_SE_DISK', 'N_SE_DISK_ERR', 'BA_SE_DISK', 'BA_SE_DISK_ERR', 'PA_SE_DISK', 'PA_SE_DISK_ERR', 'GALSKY_SE')\n",
      "('INTID', 'MANGA_ID', 'PLATEIFU', 'OBJID', 'RA', 'DEC', 'Z', 'EXTINCTION', 'DUPL_GR', 'DUPL_N', 'DUPL_ID', 'FLAG_FIT', 'FLAG_FAILED_S', 'M_S', 'M_S_ERR', 'M_S_TRUNC', 'A_HL_S', 'A_HL_S_ERR', 'A_HL_S_TRUNC', 'N_S', 'N_S_ERR', 'BA_S', 'BA_S_ERR', 'PA_S', 'PA_S_ERR', 'GALSKY_S', 'FLAG_FAILED_SE', 'M_SE', 'M_SE_TRUNC', 'A_HL_SE', 'A_HL_SE_TRUNC', 'BA_SE', 'BT_SE', 'BT_SE_TRUNC', 'M_SE_BULGE', 'M_SE_BULGE_ERR', 'M_SE_BULGE_TRUNC', 'A_HL_SE_BULGE', 'A_HL_SE_BULGE_ERR', 'A_HL_SE_BULGE_TRUNC', 'N_SE_BULGE', 'N_SE_BULGE_ERR', 'BA_SE_BULGE', 'BA_SE_BULGE_ERR', 'PA_SE_BULGE', 'PA_SE_BULGE_ERR', 'M_SE_DISK', 'M_SE_DISK_ERR', 'M_SE_DISK_TRUNC', 'A_HL_SE_DISK', 'A_HL_SE_DISK_ERR', 'A_HL_SE_DISK_TRUNC', 'N_SE_DISK', 'N_SE_DISK_ERR', 'BA_SE_DISK', 'BA_SE_DISK_ERR', 'PA_SE_DISK', 'PA_SE_DISK_ERR', 'GALSKY_SE')\n",
      "('INTID', 'MANGA-ID', 'PLATEIFU', 'OBJID', 'RA', 'DEC', 'Z', 'DUPL_GR', 'DUPL_N', 'DUPL_ID', 'TTYPE', 'FLAG_TT', 'P_S0', 'FLAG_S0', 'P_EDGE_ON', 'P_BAR_GZ2', 'P_BAR_N10', 'P_MERG', 'P_BULGE', 'P_CIGAR')\n",
      "(1, b'1-286558   ', b'8325-12701 ', 1237661435926544550, 210.17634, 45.833422, 0.04288711, 0.01944317, 0, 0, 0, 3, 1, -999., -999., -999., -999., -999., -999., -999., -999., -999., -999., -999., -999., -999., 1, -999., -999., -999., -999., -999., -999., -999., -999., -999., -999., -999., -999., -999., -999., -999., -999., -999., -999., -999., -999., -999., -999., -999., -999., -999., -999., -999., -999., -999., -999., -999., -999.)\n"
     ]
    }
   ],
   "source": [
    "print(g.dtype.names)\n",
    "print(r.dtype.names)\n",
    "print(mor.dtype.names)\n",
    "print(r[0])"
   ]
  },
  {
   "cell_type": "code",
   "execution_count": 3,
   "metadata": {},
   "outputs": [
    {
     "name": "stdout",
     "output_type": "stream",
     "text": [
      "[4214 3666 1693 ... 2250 4187 3571]\n",
      "m1 = [ True  True False ... False False  True]\n",
      "m2 = [False False  True ...  True  True False]\n",
      "ntot =  4672\n",
      "ntrain =  2336\n",
      "nvalidate =  2336\n"
     ]
    }
   ],
   "source": [
    "# Split full data set into training and validation halves\n",
    "ntot = len(r)\n",
    "ntrain = ntot // 2\n",
    "rng = np.random.RandomState(314159)\n",
    "selection = rng.choice(ntot, size=ntrain, replace=False)\n",
    "print(selection)\n",
    "train = np.in1d(range(ntot),selection)\n",
    "valid = ~train\n",
    "print('m1 =',train)\n",
    "print('m2 =',valid)\n",
    "print('ntot = ',ntot)\n",
    "print('ntrain = ',np.sum(train))\n",
    "print('nvalidate = ',np.sum(valid))"
   ]
  },
  {
   "cell_type": "code",
   "execution_count": 4,
   "metadata": {},
   "outputs": [
    {
     "name": "stdout",
     "output_type": "stream",
     "text": [
      "[0 1 2 3]\n",
      "N 0 = 411\n",
      "N 1 = 2367\n",
      "N 2 = 1696\n",
      "N 3 = 198\n",
      "N failed se = 406\n",
      "N failed s = 333\n",
      "N tot =  4672\n",
      "N good = 4126\n",
      "N good with flag_fit=3 = 0\n"
     ]
    }
   ],
   "source": [
    "# Not all rows have valid fits.  Define a mask to exclude bad S/E fits\n",
    "flag_fit = r['FLAG_FIT']\n",
    "print(np.unique(flag_fit))\n",
    "print('N 0 =',np.sum(flag_fit==0))\n",
    "print('N 1 =',np.sum(flag_fit==1))\n",
    "print('N 2 =',np.sum(flag_fit==2))\n",
    "print('N 3 =',np.sum(flag_fit==3))\n",
    "r_failed_se = r['FLAG_FAILED_SE']\n",
    "r_failed_s = r['FLAG_FAILED_S']\n",
    "g_failed_se = g['FLAG_FAILED_SE']\n",
    "g_failed_s = g['FLAG_FAILED_S']\n",
    "print('N failed se =',np.sum(r_failed_se))\n",
    "print('N failed s =',np.sum(r_failed_s))\n",
    "print('N tot = ',len(r))\n",
    "mask = (r_failed_se == 0) & (g_failed_se == 0)\n",
    "print('N good =',len(r[mask]))\n",
    "print('N good with flag_fit=3 =',np.sum(flag_fit[mask]==3))"
   ]
  },
  {
   "cell_type": "code",
   "execution_count": 5,
   "metadata": {},
   "outputs": [
    {
     "name": "stdout",
     "output_type": "stream",
     "text": [
      "1052\n",
      "896\n",
      "902\n",
      "1822\n",
      "4672\n"
     ]
    }
   ],
   "source": [
    "# Define types from TTYPE and P_S0 as per Helena's instructions.\n",
    "Ell = (mor['TTYPE']<=0.) & (mor['P_S0']<=0.5)\n",
    "S0 = (mor['TTYPE']<=0.) & (mor['P_S0']>0.5)\n",
    "S1 = (mor['TTYPE']>0.) & (mor['TTYPE']<=3.)\n",
    "S2 = mor['TTYPE']>3.\n",
    "print(np.sum(Ell))\n",
    "print(np.sum(S0))\n",
    "print(np.sum(S1))\n",
    "print(np.sum(S2))\n",
    "# Make sure nothing is 2 types\n",
    "assert np.sum(Ell & S0) == 0\n",
    "assert np.sum(Ell & S1) == 0\n",
    "assert np.sum(Ell & S2) == 0\n",
    "assert np.sum(S0 & S1) == 0\n",
    "assert np.sum(S0 & S2) == 0\n",
    "assert np.sum(S1 & S2) == 0\n",
    "# Make sure everything is some type\n",
    "print(len(mor))\n",
    "assert np.sum(Ell | S0 | S1 | S2) == len(mor)\n",
    "gal_type = np.zeros(len(mor), dtype=int)\n",
    "gal_type[Ell] = 1\n",
    "gal_type[S0] = 2\n",
    "gal_type[S1] = 3\n",
    "gal_type[S2] = 4"
   ]
  },
  {
   "cell_type": "code",
   "execution_count": 6,
   "metadata": {
    "collapsed": true
   },
   "outputs": [],
   "source": [
    "# Get some easy columns\n",
    "id = r['INTID']\n",
    "ra = r['RA']\n",
    "dec = r['DEC']\n",
    "z = r['Z']\n",
    "re = r['A_HL_SE']\n",
    "pa = r['PA_SE_DISK']  # No overall PA, but the disk one is probably sufficient for this.\n",
    "b_over_a = r['BA_SE']\n",
    "bulge_frac = r['BT_SE']\n",
    "n_bulge = r['N_SE_BULGE']\n",
    "re_bulge = r['A_HL_SE_BULGE']\n",
    "re_disk = r['A_HL_SE_DISK']"
   ]
  },
  {
   "cell_type": "code",
   "execution_count": 7,
   "metadata": {},
   "outputs": [
    {
     "name": "stdout",
     "output_type": "stream",
     "text": [
      "max z = 0.14951847955617875\n",
      "z = [0.04288711 0.04496038 0.05276287 ... 0.0691559  0.0227374  0.0550323 ]\n",
      "dA (pc) = [1.84396775e+08 2.14793474e+08 1.05982310e+08 ... 4.38523686e+07\n",
      " 4.94947172e+07 2.77211616e+08]\n",
      "kpc =  [0.89397996 1.04134717 0.51381625 ... 0.21260208 0.23995693 1.34395858]\n",
      "re (arcsec) = [ 7.15706086  5.36164366  8.01950677 ...  4.64494896 19.88123894\n",
      "  5.1775279 ]\n",
      "re (kpc) = [6.39826895 5.58333244 4.12055292 ... 0.98752582 4.77064116 6.95838305]\n"
     ]
    }
   ],
   "source": [
    "# Convert distances to kpc (currently arcsec)\n",
    "print('max z =',np.max(z))\n",
    "print('z =',z)\n",
    "dA = z/(1+z) * (3.e5) / 70 * 1.e6  # pc\n",
    "print('dA (pc) =',dA[mask])\n",
    "kpc = (1/206265.) * dA * 1.e-3  # kpc / arcsec\n",
    "print('kpc = ',kpc[mask])\n",
    "print('re (arcsec) =',re[mask])\n",
    "print('re (kpc) =',(re * kpc)[mask])\n",
    "re *= kpc\n",
    "re_bulge *= kpc\n",
    "re_disk *= kpc"
   ]
  },
  {
   "cell_type": "code",
   "execution_count": 8,
   "metadata": {},
   "outputs": [
    {
     "name": "stdout",
     "output_type": "stream",
     "text": [
      "r = [16.38410785 15.63347435 14.30344009 ... 15.5816927  12.96950817\n",
      " 16.22357178]\n",
      "g = [17.04116821 16.35520172 14.88530159 ... 15.98082924 13.73615646\n",
      " 16.94196892]\n",
      "rabs =  [-20.13565699 -21.24993666 -20.93147461 ... -17.67293946 -20.55373359\n",
      " -21.28089572]\n",
      "gabs =  [-19.47859662 -20.52820929 -20.34961312 ... -17.27380292 -19.7870853\n",
      " -20.56249858]\n",
      "Lr (Lsun) =  [5.28979266e+09 1.39086096e+10 1.17990012e+10 ... 6.94258438e+08\n",
      " 7.02803830e+09 1.43548756e+10]\n",
      "Lr (Lsun) =  [9.68863946e+09 2.70380062e+10 2.01646108e+10 ... 1.00271101e+09\n",
      " 1.42394573e+10 2.78200746e+10]\n",
      "C = Lg/Lr =  [0.54597889 0.51440958 0.58513409 ... 0.69238138 0.49356083 0.51598983]\n"
     ]
    }
   ],
   "source": [
    "# Figure out the Luminosity and Color\n",
    "rmag = r['M_SE'] # apparent magnitude\n",
    "gmag = g['M_SE'] # apparent magnitude\n",
    "print('r =',rmag[mask])\n",
    "print('g =',gmag[mask])\n",
    "dL = dA * (1+z)**2\n",
    "rabs = rmag - 5 * np.log10(dL / 10)\n",
    "gabs = gmag - 5 * np.log10(dL / 10)\n",
    "print('rabs = ',rabs[mask])\n",
    "print('gabs = ',gabs[mask])\n",
    "mabs_sun = 4.83  # ignore k correction...\n",
    "Lr = np.zeros(ntot)\n",
    "Lg = np.zeros(ntot)\n",
    "C = np.zeros(ntot)\n",
    "Lr[mask] = 10**(0.4 * (mabs_sun - rabs[mask]))\n",
    "Lg[mask] = 10**(0.4 * (mabs_sun - gabs[mask]))\n",
    "C[mask] = Lg[mask]/Lr[mask]\n",
    "print('Lr (Lsun) = ',Lg[mask])\n",
    "print('Lr (Lsun) = ',Lr[mask])\n",
    "print('C = Lg/Lr = ',C[mask])"
   ]
  },
  {
   "cell_type": "code",
   "execution_count": 9,
   "metadata": {},
   "outputs": [
    {
     "name": "stdout",
     "output_type": "stream",
     "text": [
      "training_galaxies.dat \n",
      "\n",
      "#  id  gal_type   ra          dec       redshift  log_luminosity  color      radius     b_over_a   pos_angle   bulge_fract   sersic_n    r_bulge     r_disk\n",
      "    2     4    157.05886    42.96805     0.04496     9.98626     0.54598     6.39827     0.17906    57.42190     0.06485     1.30600     5.81586     6.37754\n",
      "    6     4    129.89352    25.47709     0.02918     9.96684     0.53171     4.86181     0.93007   -29.24130     0.11893     1.00000     1.09123     5.33112\n",
      "    7     4    192.88862    26.76983     0.04561    10.22729     0.68002     7.24744     0.61682   -48.55630     0.11306     1.54460     1.58634     8.18503\n",
      "    9     2    257.95754    57.11093     0.03028    10.40243     0.48439     3.94840     0.51641   -43.54110     0.56902     2.72450     3.06734     5.38915\n",
      "   16     1    182.35628    46.54936     0.06909    10.82827     0.47607     9.32379     0.93203    49.65370     0.85496     7.17250    10.18022     7.76279\n",
      "   17     1    117.39779    30.41663     0.05972    11.12102     0.46233    16.40161     0.55355   -55.54750     0.61926     4.00800    14.44476    17.40924\n",
      "   18     4    203.95819    34.99895     0.02504    10.69635     0.59166     6.78621     0.60449    59.44100     0.22573     2.29400     1.25619     8.58687\n",
      "   20     4    126.59003    20.27051     0.02525    10.08636     0.57895     7.24737     0.19434    14.98560     0.11024     1.28070     3.07069     7.86292\n",
      "   22     4    203.19634    38.08978     0.05287    10.45047     0.65376     8.01966     0.60370    13.16120     0.33433     1.00000     6.08899     9.33813\n",
      "\n",
      "validation_galaxies.dat \n",
      "\n",
      "#  id  gal_type   ra          dec       redshift  log_luminosity  color      radius     b_over_a   pos_angle   bulge_fract   sersic_n    r_bulge     r_disk\n",
      "    3     4    119.75748    30.97602     0.05276    10.43197     0.51441     5.58333     0.45692    39.86710     0.36755     3.37420     4.76811     6.79653\n",
      "    4     4    203.83021    26.42478     0.02536    10.30459     0.58513     4.12055     0.64095   -27.91720     0.24800     2.96370     1.72953     5.17713\n",
      "    5     1    263.52527    56.79961     0.02924    10.16620     0.44972     5.15793     0.78394     2.29890     0.32839     1.34140     1.86755     8.07830\n",
      "    8     3    221.97538    46.51493     0.08674    10.86385     0.51221     6.62819     0.60142   -37.24050     0.47889     1.72200     3.25047    12.08656\n",
      "   10     1    114.88098    39.78891     0.09759    10.84656     0.37472     8.61551     0.69912    30.59260     0.43457     2.66900     1.98213    17.25550\n",
      "   12     3    116.93032    41.38638     0.02856    10.33211     0.47721     4.57886     0.74341    20.93890     0.46295     2.84590     1.85727     8.68008\n",
      "   13     4    244.58323    23.63708     0.03839     9.70318     0.51004     5.67088     0.23298    30.55060     0.32878     1.75470     6.84503    10.60989\n",
      "   14     4    212.27199    53.79536     0.04147     9.81360     0.64418     6.81839     0.64482     9.53460     0.24846     0.51800     4.83794     8.66965\n",
      "   15     4    245.45671    23.77008     0.04206     9.81300     0.69596     6.93228     0.82757   -40.54990     0.05360     1.00000     1.57836     7.22149\n",
      "\n"
     ]
    }
   ],
   "source": [
    "# Make ASCII catalogs:\n",
    "fname1 = 'training_galaxies.dat'\n",
    "fname2 = 'validation_galaxies.dat'\n",
    "\n",
    "for fname, m in ((fname1, train), (fname2, valid)):\n",
    "    print(fname,'\\n')\n",
    "    with open(fname,'w+') as f:\n",
    "        f.write('#  id  gal_type   ra          dec       redshift  log_luminosity  color      radius     b_over_a   pos_angle   bulge_fract   sersic_n    r_bulge     r_disk\\n')\n",
    "        for i in range(len(id)):\n",
    "            if not m[i]: continue\n",
    "            if not mask[i]: continue\n",
    "            f.write((\"%5d   %3d \" + \"  %10.5f\" * 12 + \"\\n\")%(id[i], gal_type[i],\n",
    "                                                            ra[i], dec[i], z[i], np.log10(Lr[i]), C[i],\n",
    "                                                            re[i], b_over_a[i], pa[i], bulge_frac[i],\n",
    "                                                            n_bulge[i], re_bulge[i], re_disk[i]))\n",
    "    with open(fname,'r') as f:\n",
    "        lines = f.read().split('\\n')\n",
    "        print('\\n'.join(lines[:10]))\n",
    "    print()"
   ]
  },
  {
   "cell_type": "code",
   "execution_count": 10,
   "metadata": {},
   "outputs": [
    {
     "name": "stdout",
     "output_type": "stream",
     "text": [
      "[(   2, 4, 157.05886, 42.96805, 0.04496,  9.98626, 0.54598, 6.39827, 0.17906,  57.4219, 0.06485, 1.306 , 5.81586, 6.37754)\n",
      " (   6, 4, 129.89352, 25.47709, 0.02918,  9.96684, 0.53171, 4.86181, 0.93007, -29.2413, 0.11893, 1.    , 1.09123, 5.33112)\n",
      " (   7, 4, 192.88862, 26.76983, 0.04561, 10.22729, 0.68002, 7.24744, 0.61682, -48.5563, 0.11306, 1.5446, 1.58634, 8.18503)\n",
      " ...\n",
      " (4696, 4, 165.10414, 43.01969, 0.03743,  9.88758, 0.95614, 1.7786 , 0.50697,  23.8471, 0.62913, 3.4918, 1.9188 , 1.37429)\n",
      " (4698, 4, 149.90212, 34.32022, 0.02089,  9.494  , 0.74093, 2.98093, 0.74259, -71.3918, 0.20503, 1.    , 0.95447, 3.66181)\n",
      " (4702, 4, 113.8983 , 41.96359, 0.01034,  9.00118, 0.69238, 0.98753, 0.68095, -21.999 , 0.32864, 0.4   , 1.04857, 1.01929)]\n",
      "('id', 'gal_type', 'ra', 'dec', 'redshift', 'log_luminosity', 'color', 'radius', 'b_over_a', 'pos_angle', 'bulge_fract', 'sersic_n', 'r_bulge', 'r_disk')\n",
      "2063\n"
     ]
    }
   ],
   "source": [
    "# Check that numpy reads it back in correctly\n",
    "fname1 = 'training_galaxies.dat'\n",
    "data = np.genfromtxt(fname1, names=True, dtype=None)\n",
    "print(data)\n",
    "print(data.dtype.names)\n",
    "print(len(data))"
   ]
  },
  {
   "cell_type": "code",
   "execution_count": 11,
   "metadata": {},
   "outputs": [
    {
     "name": "stdout",
     "output_type": "stream",
     "text": [
      "['INTID', 'MANGA_ID', 'PLATEIFU', 'OBJID', 'RA', 'DEC', 'Z', 'EXTINCTION', 'DUPL_GR', 'DUPL_N', 'DUPL_ID', 'FLAG_FIT', 'FLAG_FAILED_S', 'M_S', 'M_S_ERR', 'M_S_TRUNC', 'A_HL_S', 'A_HL_S_ERR', 'A_HL_S_TRUNC', 'N_S', 'N_S_ERR', 'BA_S', 'BA_S_ERR', 'PA_S', 'PA_S_ERR', 'GALSKY_S', 'FLAG_FAILED_SE', 'M_SE', 'M_SE_TRUNC', 'A_HL_SE', 'A_HL_SE_TRUNC', 'BA_SE', 'BT_SE', 'BT_SE_TRUNC', 'M_SE_BULGE', 'M_SE_BULGE_ERR', 'M_SE_BULGE_TRUNC', 'A_HL_SE_BULGE', 'A_HL_SE_BULGE_ERR', 'A_HL_SE_BULGE_TRUNC', 'N_SE_BULGE', 'N_SE_BULGE_ERR', 'BA_SE_BULGE', 'BA_SE_BULGE_ERR', 'PA_SE_BULGE', 'PA_SE_BULGE_ERR', 'M_SE_DISK', 'M_SE_DISK_ERR', 'M_SE_DISK_TRUNC', 'A_HL_SE_DISK', 'A_HL_SE_DISK_ERR', 'A_HL_SE_DISK_TRUNC', 'N_SE_DISK', 'N_SE_DISK_ERR', 'BA_SE_DISK', 'BA_SE_DISK_ERR', 'PA_SE_DISK', 'PA_SE_DISK_ERR', 'GALSKY_SE']\n",
      "training_galaxies_full_g.dat \n",
      "\n",
      "validation_galaxies_full_g.dat \n",
      "\n",
      "training_galaxies_full_r.dat \n",
      "\n",
      "validation_galaxies_full_r.dat \n",
      "\n",
      "[(   2, 1237660634384761005, 157.05886   , 42.96805   , 0.04496038, 0.02147177,  0, 0, 0, 1, 0, 16.44799995, 0.0043, 16.44799995, 6.75516605, 0.0340956, 6.75516605, 0.59439999, 0.0105, 0.1859    , 0.0011,  57.52709961, 0.0896    , 20.71525383, 0, 16.38410785, 16.39163427, 6.39826895, 7.10872989, 0.179059  , 0.0648459 , 0.06521027, 19.35440132, 0.84979999, 19.35584425, 5.81585853, 1.70612645, 6.49907536, 1.30599995, 0.3962, 0.2201    , 0.0409,  57.50650024, 3.05119991, 16.45689964, 0.0599, 16.46484944, 6.37754244, 0.06983769, 7.08288956, 1.        , 0.    , 0.1705    , 0.0035,  57.4219017 , 0.0988    , 20.71538925)\n",
      " (   6, 1237664668424667344, 129.89352   , 25.477089  , 0.0291805 , 0.08588073,  0, 0, 0, 2, 0, 15.33259964, 0.0049, 15.33333327, 8.99743652, 0.0606276, 8.98844778, 1.20029998, 0.0085, 0.92979997, 0.0037, -37.83179855, 2.34039998, 21.14271355, 0, 15.46092606, 15.4609266 , 4.8618082 , 8.25275604, 0.93007499, 0.11892998, 0.11892983, 17.77269936, 0.0175    , 17.77269962, 1.09123029, 0.03475272, 1.85232675, 1.        , 0.    , 0.92680001, 0.015 , -47.24670029, 7.17469978, 15.59840012, 0.0041, 15.59840035, 5.33111687, 0.039996  , 9.04939175, 0.38530001, 0.0041, 0.93000001, 0.003 , -29.24130058, 2.23860002, 21.14251518)\n",
      " (   7, 1237667442437259402, 192.88862   , 26.769826  , 0.04561212, 0.02929099,  0, 0, 0, 2, 0, 15.68929863, 0.01  , 15.70277617, 9.15381718, 0.1281852, 9.00750257, 1.98389995, 0.0226, 0.61790001, 0.0037, -46.38499832, 0.4463    , 21.01929283, 0, 15.81413841, 15.82166877, 7.24743665, 7.93444242, 0.61681902, 0.113057  , 0.11339936, 18.18089867, 0.0951    , 18.18514223, 1.58633653, 0.14976721, 1.74320051, 1.54460001, 0.1353, 0.62269998, 0.0161, -35.22119904, 1.90989995, 15.94439888, 0.009 , 15.95234867, 8.18503145, 0.09980609, 8.96598284, 1.        , 0.    , 0.61070001, 0.0035, -48.55630112, 0.48120001, 21.01840782)\n",
      " ...\n",
      " (4696, 1237661872397287492, 165.10414   , 43.019692  , 0.03742839, 0.02388337, 61, 2, 2, 1, 0, 16.39830017, 0.003 , 16.39833491, 2.13079667, 0.009504 , 2.13079667, 0.91979998, 0.0132, 0.49739999, 0.0021,  55.54190063, 0.2525    , 21.21530151, 0, 16.21695137, 16.25890202, 1.77860432, 2.25598818, 0.50696898, 0.62913102, 0.61733295, 16.7201004 , 0.009     , 16.78260337, 1.91880358, 0.0650628 , 2.32933135, 3.49180007, 0.1215, 0.4813    , 0.0054,  69.68650055, 0.63209999, 17.29389954, 0.0149, 17.30184935, 1.37429352, 0.01568192, 1.82021929, 1.        , 0.    , 0.3964    , 0.0041,  23.8470993 , 0.491     , 21.21763611)\n",
      " (4698, 1237664668433186898, 149.90212   , 34.320219  , 0.02089343, 0.02719904,  0, 0, 0, 2, 0, 15.76099968, 0.008 , 15.77140239, 7.84266138, 0.09009  , 7.74864368, 1.85950005, 0.0184, 0.76789999, 0.0044, -51.55929947, 0.78850001, 21.18745804, 0, 15.90006828, 15.90169402, 2.98093022, 7.00204091, 0.74259001, 0.20503497, 0.20384413, 17.62049866, 0.0166    , 17.62844848, 0.95446727, 0.02857298, 2.2285318 , 1.        , 0.    , 0.58289999, 0.0071, -28.32029915, 0.76550001, 16.14919853, 0.0072, 16.14919877, 3.66180908, 0.0696564 , 8.61129761, 0.5704    , 0.0097, 0.7385    , 0.0038, -71.39179993, 0.71640003, 21.18704414)\n",
      " (4702, 1237673706651648260, 113.89830017, 41.96358871, 0.010338  , 0.1198248 ,  0, 0, 0, 1, 0, 15.61829948, 0.0024, 15.61829952, 4.73509073, 0.0154044, 4.73509073, 0.6767    , 0.0051, 0.61519998, 0.0016, -13.36089993, 0.2334    , 20.87170601, 0, 15.5816927 , 15.58180207, 0.98752582, 4.64494896, 0.68094897, 0.328637  , 0.32865962, 16.78989983, 0.0365    , 16.78989983, 1.0485749 , 0.0569844 , 4.93210077, 0.40000001, 0.0104, 0.4799    , 0.006 ,  -8.09529972, 0.52569997, 16.01429939, 0.0189, 16.01440877, 1.01928823, 0.03076579, 4.78955765, 1.        , 0.    , 0.72759998, 0.0079, -21.99900055, 1.33720005, 20.8718605 )]\n",
      "('ID', 'OBJID', 'RA', 'DEC', 'Z', 'EXTINCTION', 'DUPL_GR', 'DUPL_N', 'DUPL_ID', 'FLAG_FIT', 'FLAG_FAILED_S', 'M_S', 'M_S_ERR', 'M_S_TRUNC', 'A_HL_S', 'A_HL_S_ERR', 'A_HL_S_TRUNC', 'N_S', 'N_S_ERR', 'BA_S', 'BA_S_ERR', 'PA_S', 'PA_S_ERR', 'GALSKY_S', 'FLAG_FAILED_SE', 'M_SE', 'M_SE_TRUNC', 'A_HL_SE', 'A_HL_SE_TRUNC', 'BA_SE', 'BT_SE', 'BT_SE_TRUNC', 'M_SE_BULGE', 'M_SE_BULGE_ERR', 'M_SE_BULGE_TRUNC', 'A_HL_SE_BULGE', 'A_HL_SE_BULGE_ERR', 'A_HL_SE_BULGE_TRUNC', 'N_SE_BULGE', 'N_SE_BULGE_ERR', 'BA_SE_BULGE', 'BA_SE_BULGE_ERR', 'PA_SE_BULGE', 'PA_SE_BULGE_ERR', 'M_SE_DISK', 'M_SE_DISK_ERR', 'M_SE_DISK_TRUNC', 'A_HL_SE_DISK', 'A_HL_SE_DISK_ERR', 'A_HL_SE_DISK_TRUNC', 'N_SE_DISK', 'N_SE_DISK_ERR', 'BA_SE_DISK', 'BA_SE_DISK_ERR', 'PA_SE_DISK', 'PA_SE_DISK_ERR', 'GALSKY_SE')\n"
     ]
    }
   ],
   "source": [
    "# Write the full, original data into ASCII files\n",
    "names = list(g.dtype.names)\n",
    "print(names)\n",
    "\n",
    "for band, data in (('g', g), ('r', r)):\n",
    "    fname1 = 'training_galaxies_full_%s.dat'%band\n",
    "    fname2 = 'validation_galaxies_full_%s.dat'%band\n",
    "\n",
    "    for fname, m in ((fname1, train), (fname2, valid)):\n",
    "        print(fname,'\\n')\n",
    "        with open(fname,'w+') as f:\n",
    "            f.write('# ID ' + '  '.join(names[3:]) + '\\n')\n",
    "            for i in range(len(id)):\n",
    "                if not m[i]: continue\n",
    "                if not mask[i]: continue\n",
    "                values = [id[i]] + list(data[i])[3:]\n",
    "                str_values = [str(v) for v in values]\n",
    "                f.write('  '.join(str_values) + '\\n')\n",
    "                \n",
    "data = np.genfromtxt(fname1, names=True, dtype=None, encoding=None)\n",
    "print(data)\n",
    "print(data.dtype.names)"
   ]
  },
  {
   "cell_type": "code",
   "execution_count": null,
   "metadata": {
    "collapsed": true
   },
   "outputs": [],
   "source": []
  }
 ],
 "metadata": {
  "kernelspec": {
   "display_name": "Python 3",
   "language": "python",
   "name": "python3"
  },
  "language_info": {
   "codemirror_mode": {
    "name": "ipython",
    "version": 3
   },
   "file_extension": ".py",
   "mimetype": "text/x-python",
   "name": "python",
   "nbconvert_exporter": "python",
   "pygments_lexer": "ipython3",
   "version": "3.6.3"
  }
 },
 "nbformat": 4,
 "nbformat_minor": 2
}
